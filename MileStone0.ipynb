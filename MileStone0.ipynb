{
  "nbformat": 4,
  "nbformat_minor": 0,
  "metadata": {
    "colab": {
      "provenance": [],
      "authorship_tag": "ABX9TyNK+5gnXMmlpIhejvX5RyFh",
      "include_colab_link": true
    },
    "kernelspec": {
      "name": "python3",
      "display_name": "Python 3"
    },
    "language_info": {
      "name": "python"
    }
  },
  "cells": [
    {
      "cell_type": "markdown",
      "metadata": {
        "id": "view-in-github",
        "colab_type": "text"
      },
      "source": [
        "<a href=\"https://colab.research.google.com/github/Nawrazsh/Test/blob/main/MileStone0.ipynb\" target=\"_parent\"><img src=\"https://colab.research.google.com/assets/colab-badge.svg\" alt=\"Open In Colab\"/></a>"
      ]
    },
    {
      "cell_type": "markdown",
      "source": [
        "# Requirements\n",
        "\n"
      ],
      "metadata": {
        "id": "DPFtUb79jjjQ"
      }
    },
    {
      "cell_type": "markdown",
      "source": [
        "***In this Milestone , you are required to build a chatting application designed over a network composed of one client and a server. The chatting application should feature the following: ***\n",
        "\n",
        "1.   The client chats with the server at any time.\n",
        "2.   The server responds with the same message sent by the corresponding client in CAPITALIZED format.\n",
        "3.   The connection between any client and server stays open until the client sends to the server a message contains CLOSE SOCKET then the connection between the server and the client closes.\n",
        "4.  The chatting connections are TCP based.\n",
        "\n",
        "***Note:***\n",
        "\n",
        "***Server WILL NEVER TERMINATE ***\n",
        "For Example: “When Client 1 sends any message to the server then terminates, the server should continue running (should stay available) so when you re-run Client class you should succeed connecting to the server again as client 2  (MileStone 1)”\n"
      ],
      "metadata": {
        "id": "4MYrySATYLem"
      }
    },
    {
      "cell_type": "markdown",
      "source": [
        "# CLIENT SIDE CODE\n",
        "\n",
        "\n"
      ],
      "metadata": {
        "id": "EhEJ_f5fi4LG"
      }
    },
    {
      "cell_type": "code",
      "source": [],
      "metadata": {
        "id": "B58C0jWwjIhO"
      },
      "execution_count": null,
      "outputs": []
    },
    {
      "cell_type": "markdown",
      "source": [
        "# SERVER SIDE CODE"
      ],
      "metadata": {
        "id": "CKxS9C9KjJfG"
      }
    },
    {
      "cell_type": "code",
      "source": [],
      "metadata": {
        "id": "Z0a2DPuEjS4-"
      },
      "execution_count": null,
      "outputs": []
    },
    {
      "cell_type": "markdown",
      "source": [
        "# Submission"
      ],
      "metadata": {
        "id": "TUTPoCX3jbG2"
      }
    },
    {
      "cell_type": "markdown",
      "source": [
        "***Milestone 0 is an individual task, Any cheating case will be graded ZERO.***\n",
        "\n",
        "1.  Name your notebook MUST be named as MS0_FirstName_LastName_id (MS0_Nawraz_Saeed_55-1234)\n",
        "2.  Save your notebook as a copy in your assigned github repository before the deadline.**bold text**\n",
        "\n",
        "                                         BEST OF LUCK :)"
      ],
      "metadata": {
        "id": "m_TcvDniZfz_"
      }
    }
  ]
}