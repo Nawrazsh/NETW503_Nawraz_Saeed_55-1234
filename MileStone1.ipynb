{
  "nbformat": 4,
  "nbformat_minor": 0,
  "metadata": {
    "colab": {
      "provenance": [],
      "authorship_tag": "ABX9TyPz7gtTilw63Gqt6tNM4b1s",
      "include_colab_link": true
    },
    "kernelspec": {
      "name": "python3",
      "display_name": "Python 3"
    },
    "language_info": {
      "name": "python"
    }
  },
  "cells": [
    {
      "cell_type": "markdown",
      "metadata": {
        "id": "view-in-github",
        "colab_type": "text"
      },
      "source": [
        "<a href=\"https://colab.research.google.com/github/Nawrazsh/Test/blob/main/MileStone1.ipynb\" target=\"_parent\"><img src=\"https://colab.research.google.com/assets/colab-badge.svg\" alt=\"Open In Colab\"/></a>"
      ]
    },
    {
      "cell_type": "markdown",
      "source": [
        "# Requirements\n",
        "\n"
      ],
      "metadata": {
        "id": "DPFtUb79jjjQ"
      }
    },
    {
      "cell_type": "markdown",
      "source": [
        "***In this Milestone , you are required to extend your chatting application designed over a network to be composed of N clients and a single server. The server should communicate with N clients concurrently. The chatting application should feature the following:***\n",
        "\n",
        "1.   The server should communicate with the N clients concurrently (using threading). Note: you will find a pdf file on cms for the concept of threading\n",
        "\n",
        "2.   The server should saves the client information such as the connection socket, outputstream, etc. (use any data structure such as linkedlist, array, .etc)\n",
        "3.   Any client chats with the server at any time.\n",
        "4.   The server responds with the same message sent by the corsponding client in CAPITALIZED format.\n",
        "5.  The connection between any client and server stays open until the client sends to the server a message contatins CLOSE SOCKET then the connection between the server and the client closes.\n",
        "6.  The chatting connections are TCP based.\n",
        "\n",
        "***Note:***\n",
        "\n",
        "***You are free to create your own objects to help implement through the implementation. For example, it is preferable to create an object called \"ClientThread\" that extends \"Thread\" object in python or implements \"Runnable\" interface. This customized class can hold the extra data needed for each client on the server like the connection socket, dataoutputstreams and others.***\n"
      ],
      "metadata": {
        "id": "4MYrySATYLem"
      }
    },
    {
      "cell_type": "markdown",
      "source": [
        "# CLIENT SIDE CODE\n",
        "\n",
        "\n"
      ],
      "metadata": {
        "id": "EhEJ_f5fi4LG"
      }
    },
    {
      "cell_type": "code",
      "source": [],
      "metadata": {
        "id": "B58C0jWwjIhO"
      },
      "execution_count": null,
      "outputs": []
    },
    {
      "cell_type": "markdown",
      "source": [
        "# SERVER SIDE CODE"
      ],
      "metadata": {
        "id": "CKxS9C9KjJfG"
      }
    },
    {
      "cell_type": "code",
      "source": [],
      "metadata": {
        "id": "Z0a2DPuEjS4-"
      },
      "execution_count": null,
      "outputs": []
    },
    {
      "cell_type": "markdown",
      "source": [
        "# Submission"
      ],
      "metadata": {
        "id": "TUTPoCX3jbG2"
      }
    },
    {
      "cell_type": "markdown",
      "source": [
        "***Milestone 1 is an individual task, Any cheating case will be graded ZERO.***\n",
        "1.  Name your notebook MUST be named as MS1_FirstName_LastName_id (MS1_Nawraz_Saeed_55-1234)\n",
        "2.  Save your notebook as a copy in your assigned github repository before the deadline.\n",
        "\n",
        "                                         BEST OF LUCK :)"
      ],
      "metadata": {
        "id": "m_TcvDniZfz_"
      }
    }
  ]
}