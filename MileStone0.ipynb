{
  "nbformat": 4,
  "nbformat_minor": 0,
  "metadata": {
    "colab": {
      "provenance": [],
      "include_colab_link": true
    },
    "kernelspec": {
      "name": "python3",
      "display_name": "Python 3"
    },
    "language_info": {
      "name": "python"
    }
  },
  "cells": [
    {
      "cell_type": "markdown",
      "metadata": {
        "id": "view-in-github",
        "colab_type": "text"
      },
      "source": [
        "<a href=\"https://colab.research.google.com/github/Nawrazsh/NETW503_Nawraz_Saeed_55-1234/blob/main/MileStone0.ipynb\" target=\"_parent\"><img src=\"https://colab.research.google.com/assets/colab-badge.svg\" alt=\"Open In Colab\"/></a>"
      ]
    },
    {
      "cell_type": "markdown",
      "source": [
        "# Requirements\n",
        "\n"
      ],
      "metadata": {
        "id": "DPFtUb79jjjQ"
      }
    },
    {
      "cell_type": "markdown",
      "source": [
        "***In this Milestone , you are required to build a chatting application designed over a network composed of one client and a server. The chatting application should feature the following: ***\n",
        "\n",
        "1.   The client chats with the server at any time.\n",
        "2.   The server responds with the same message sent by the corresponding client in CAPITALIZED format.\n",
        "3.   The connection between any client and server stays open until the client sends to the server a message contains CLOSE SOCKET then the connection between the server and the client closes.\n",
        "4.  The chatting connections are TCP based.\n",
        "\n",
        "***Note:***\n",
        "\n",
        "***Server WILL NEVER TERMINATE ***\n",
        "For Example: “When Client 1 sends any message to the server then terminates, the server should continue running (should stay available) so when you re-run Client class you should succeed connecting to the server again as client 2  (MileStone 1)”\n"
      ],
      "metadata": {
        "id": "4MYrySATYLem"
      }
    },
    {
      "cell_type": "markdown",
      "source": [
        "# SERVER SIDE CODE\n",
        "\n",
        "\n"
      ],
      "metadata": {
        "id": "EhEJ_f5fi4LG"
      }
    },
    {
      "cell_type": "code",
      "source": [
        "import socket\n",
        "import select\n",
        "import sys\n",
        "\n",
        "#initiate server socket with the TCP connection\n",
        "server_socket = socket.socket(socket.AF_INET,socket.SOCK_STREAM)\n",
        "\n",
        "# binding the server socket with the localhost as ip and port number\n",
        "port=5605\n",
        "server_socket.bind(('127.0.0.1',port))  # '127.0.0.1' is the localhost in ipv4 format\n",
        "\n",
        "# make the socket listen on this port\n",
        "server_socket.listen(...)\n",
        "\n",
        "# listening forever\n",
        "while true :\n",
        "  client,add = server_socket.accept() # when a connection to a client is accepted\n",
        "  # open a conitional conection --> break the connection when 'CLOSE SOCKET' is recieved\n",
        "  while True:\n",
        "  # recieve meassage as bytes\n",
        "\n",
        "  # decoding the bytes into characters\n",
        "\n",
        "  #Check if the message was 'CLOSE SOCKET' to close connection\n",
        "\n",
        "  # otherwise capitalize the decoded message\n",
        "\n",
        "  # send the response as bytes again\n",
        "  client.send(...)\n",
        "\n",
        "\n"
      ],
      "metadata": {
        "id": "B58C0jWwjIhO"
      },
      "execution_count": null,
      "outputs": []
    },
    {
      "cell_type": "markdown",
      "source": [
        "# CLIENT SIDE CODE"
      ],
      "metadata": {
        "id": "CKxS9C9KjJfG"
      }
    },
    {
      "cell_type": "code",
      "source": [
        "# Python program to implement server side of chat room.\n",
        "import socket\n",
        "import select\n",
        "import sys\n",
        "#initiate Client socket with the TCP connection\n",
        "client_socket = socket.socket(socket.AF_INET,socket.SOCK_STREAM)\n",
        "\n",
        "# binding the client socket with the localhost as ip and port number\n",
        "port=5605\n",
        "# try to connect to the server with associated port and id\n",
        "client_socket.connect(('127.0.0.1',port))  # '127.0.0.1' is the localhost in ipv4 format\n",
        "\n",
        "# open a connection until sending CLOSE SOCKET\n",
        "while True:\n",
        "    message=input(\"enter your message: \")\n",
        "    # send message as bytes\n",
        "\n",
        "    #recieve respose if exists\n",
        "\n"
      ],
      "metadata": {
        "id": "Z0a2DPuEjS4-"
      },
      "execution_count": null,
      "outputs": []
    },
    {
      "cell_type": "markdown",
      "source": [
        "# Submission"
      ],
      "metadata": {
        "id": "TUTPoCX3jbG2"
      }
    },
    {
      "cell_type": "markdown",
      "source": [
        "***Milestone 0 is an individual task, Any cheating case will be graded ZERO.***\n",
        "\n",
        "1.  Your project or notebook MUST be named as MS0_FirstName_LastName_id (MS0_Nawraz_Saeed_55-1234)\n",
        "2.  Save your notebook as a copy in your assigned github repository or upload the project folder to your github repository before the deadline.\n",
        "\n",
        "                                         BEST OF LUCK :)"
      ],
      "metadata": {
        "id": "m_TcvDniZfz_"
      }
    }
  ]
}